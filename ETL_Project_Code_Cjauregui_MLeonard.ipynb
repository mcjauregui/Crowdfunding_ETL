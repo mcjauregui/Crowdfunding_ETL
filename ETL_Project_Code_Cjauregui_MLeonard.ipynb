{
 "cells": [
  {
   "cell_type": "code",
   "execution_count": null,
   "metadata": {},
   "outputs": [],
   "source": [
    "# Import dependencies\n",
    "import pandas as pd\n",
    "import numpy as np\n",
    "pd.set_option('max_colwidth', 400)"
   ]
  },
  {
   "cell_type": "markdown",
   "metadata": {},
   "source": [
    "### Extract the crowdfunding.xlsx Data"
   ]
  },
  {
   "cell_type": "code",
   "execution_count": null,
   "metadata": {},
   "outputs": [],
   "source": [
    "# Read the data into a Pandas DataFrame\n",
    "crowdfunding_info_df = pd.read_excel('Resources/crowdfunding.xlsx')\n",
    "crowdfunding_info_df.head()"
   ]
  },
  {
   "cell_type": "code",
   "execution_count": null,
   "metadata": {},
   "outputs": [],
   "source": [
    "# Get a brief summary of the crowdfunding_info DataFrame.\n",
    "# Display brief summary of df\n",
    "crowdfunding_info_df.info()"
   ]
  },
  {
   "cell_type": "markdown",
   "metadata": {},
   "source": [
    "### Create the Category and Subcategory DataFrames\n",
    "---\n",
    "**Create a Category DataFrame that has the following columns:**\n",
    "- A \"category_id\" column that is numbered sequential form 1 to the length of the number of unique categories.\n",
    "- A \"category\" column that has only the categories.\n",
    "\n",
    "Export the DataFrame as a `category.csv` CSV file.\n",
    "\n",
    "**Create a SubCategory DataFrame that has the following columns:**\n",
    "- A \"subcategory_id\" column that is numbered sequential form 1 to the length of the number of unique subcategories.\n",
    "- A \"subcategory\" column that has only the subcategories. \n",
    "\n",
    "Export the DataFrame as a `subcategory.csv` CSV file."
   ]
  },
  {
   "cell_type": "code",
   "execution_count": null,
   "metadata": {},
   "outputs": [],
   "source": [
    "# Get the crowdfunding_info_df columns.\n",
    "# Display DataFrame's column names\n",
    "crowdfunding_info_df.columns"
   ]
  },
  {
   "cell_type": "code",
   "execution_count": null,
   "metadata": {},
   "outputs": [],
   "source": [
    "# Assign the category and subcategory values to category and subcategory columns.\n",
    "# Split column'category & sub-category' into 'category' and sub-category'columns\n",
    "\n",
    "#Split 'category & subcategory' into 'category' and 'sub-category'\n",
    "crowdfunding_info_df[['category', 'sub-category']] = crowdfunding_info_df['category & sub-category'].str.split('/', n=1, expand=True)\n",
    "\n",
    "crowdfunding_info_df"
   ]
  },
  {
   "cell_type": "code",
   "execution_count": null,
   "metadata": {},
   "outputs": [],
   "source": [
    "#Inserted cell \n",
    "print(crowdfunding_info_df.columns)"
   ]
  },
  {
   "cell_type": "code",
   "execution_count": null,
   "metadata": {},
   "outputs": [],
   "source": [
    "# Get the unique categories and subcategories in separate lists.\n",
    "\n",
    "# Access columns and convert them to lists\n",
    "categories = crowdfunding_info_df['category'].tolist()\n",
    "subcategories = crowdfunding_info_df['sub-category'].tolist()\n",
    "\n",
    "print(\"categories:\", categories)\n",
    "print(\"sub-categories:\", subcategories)"
   ]
  },
  {
   "cell_type": "code",
   "execution_count": null,
   "metadata": {},
   "outputs": [],
   "source": [
    "# Get the number of distinct values in the categories and subcategories lists.\n",
    "\n",
    "# 1. use set() function to convert list into set, which automatically removes duplicate elements\n",
    "# 2. use len() function to get count of unique elements in set\n",
    "\n",
    "# Convert lists to sets to get distinct values\n",
    "distinct_category_values = set(categories)\n",
    "distinct_subcategory_values = set(subcategories)\n",
    "\n",
    "# Count number of distinct values in sets\n",
    "count_of_category = len(distinct_category_values)\n",
    "count_of_subcategory = len(distinct_subcategory_values)\n",
    "\n",
    "print(distinct_category_values)\n",
    "print(distinct_subcategory_values)\n",
    "\n",
    "print(count_of_category)\n",
    "print(count_of_subcategory)\n",
    "\n",
    "#Note: variables distinct_category_values and distinct_subcategory_values are set objects"
   ]
  },
  {
   "cell_type": "code",
   "execution_count": null,
   "metadata": {},
   "outputs": [],
   "source": [
    "#Convert set objects to list and then to numpy arrays\n",
    "\n",
    "# 1.Convert sets to lists\n",
    "distinct_category_list = list(distinct_category_values)\n",
    "distinct_subcategory_list = list(distinct_subcategory_values)\n",
    "\n",
    "# 2. Create NumPy arrays from lists\n",
    "category_array = np.array(distinct_category_list)\n",
    "subcategory_array = np.array(distinct_subcategory_list)\n",
    "\n",
    "print(category_array)\n",
    "print(subcategory_array)"
   ]
  },
  {
   "cell_type": "code",
   "execution_count": null,
   "metadata": {},
   "outputs": [],
   "source": [
    "# Create numpy arrays from 1-9 for the categories and 1-24 for the subcategories.\n",
    "category_id = np.arange(1, 10)\n",
    "subcategory_id = np.arange(1, 25)\n",
    "\n",
    "print(category_id)\n",
    "print(subcategory_id)"
   ]
  },
  {
   "cell_type": "code",
   "execution_count": null,
   "metadata": {
    "scrolled": true
   },
   "outputs": [],
   "source": [
    "# Use a list comprehension to add \"cat\" to each category_id. \n",
    "# Use a list comprehension to add \"subcat\" to each subcategory_id. \n",
    "# https://bootcampspot.instructure.com/courses/4981/external_tools/313 provided assistance with syntax\n",
    "\n",
    "# Convert numpy array of integers to strings and add 'cat' or 'subcat' to them\n",
    "# Use list comprehension [f'cat{num}' for num in category_i] to iterate over each element in array,\n",
    "# which (1) converts integer element to string with 'cat' prepended to it and \n",
    "# (2) creates new array containing modified string values\n",
    "\n",
    "mod_category_id = np.array([f'cat{num}' for num in category_id])\n",
    "mod_subcategory_id = np.array([f'subcat{num}' for num in subcategory_id])\n",
    "\n",
    "print(mod_category_id)\n",
    "print(mod_subcategory_id)\n",
    "\n",
    "# Note: {cat_id} is not a dictionary of cat_id values but a placeholder for an f-string in Python\n",
    "\n",
    "# Create a category DataFrame with the category_id array as the category_id and categories list as the category name.\n",
    "# Create a category DataFrame with the subcategory_id array as the subcategory_id and subcategories list as the subcategory name. \n",
    "# https://bootcampspot.instructure.com/courses/4981/external_tools/313 provided assistance with syntax\n",
    "\n",
    "#mod_cat_id array is category_id, category (name) variable is category_array, mod_subcat_id array is subcategory_id, subcategory (name) is subcategory_array\n",
    "\n",
    "# Create DataFrames with arrays as columns\n",
    "category_df = pd.DataFrame({'category_id': mod_category_id,'category': category_array})\n",
    "subcategory_df = pd.DataFrame({'subcategory_id': mod_subcategory_id,'subcategory': subcategory_array})\n",
    "\n",
    "# Export categories_df and subcategories_df as CSV files.\n",
    "category_df.to_csv(\"Resources/category.csv\", index=False)\n",
    "subcategory_df.to_csv(\"Resources/subcategory.csv\", index=False)"
   ]
  },
  {
   "cell_type": "code",
   "execution_count": null,
   "metadata": {},
   "outputs": [],
   "source": [
    "#Print category_df\n",
    "\n",
    "print(category_df)"
   ]
  },
  {
   "cell_type": "code",
   "execution_count": null,
   "metadata": {},
   "outputs": [],
   "source": [
    "#Print subcategory_df\n",
    "\n",
    "print(subcategory_df)"
   ]
  },
  {
   "cell_type": "markdown",
   "metadata": {},
   "source": [
    "### Campaign DataFrame\n",
    "----\n",
    "**Create a Campaign DataFrame that has the following columns:**\n",
    "- The \"cf_id\" column.\n",
    "- The \"contact_id\" column.\n",
    "- The “company_name” column.\n",
    "- The \"blurb\" column is renamed as \"description.\"\n",
    "- The \"goal\" column.\n",
    "- The \"goal\" column is converted to a `float` datatype.\n",
    "- The \"pledged\" column is converted to a `float` datatype. \n",
    "- The \"backers_count\" column. \n",
    "- The \"country\" column.\n",
    "- The \"currency\" column.\n",
    "- The \"launched_at\" column is renamed as \"launch_date\" and converted to a datetime format. \n",
    "- The \"deadline\" column is renamed as \"end_date\" and converted to a datetime format.\n",
    "- The \"category_id\" with the unique number matching the “category_id” from the category DataFrame. \n",
    "- The \"subcategory_id\" with the unique number matching the “subcategory_id” from the subcategory DataFrame.\n",
    "- And, create a column that contains the unique four-digit contact ID number from the `contact.xlsx` file.\n",
    " \n",
    "\n",
    "Then export the DataFrame as a `campaign.csv` CSV file.\n"
   ]
  },
  {
   "cell_type": "code",
   "execution_count": null,
   "metadata": {},
   "outputs": [],
   "source": [
    "# Create a copy of the crowdfunding_info_df DataFrame name campaign_df. \n",
    "campaign_df = crowdfunding_info_df.copy()\n",
    "campaign_df.head()"
   ]
  },
  {
   "cell_type": "code",
   "execution_count": null,
   "metadata": {},
   "outputs": [],
   "source": [
    "# Rename the blurb, launched_at, and deadline columns.\n",
    "campaign_df.rename(columns={'blurb': \"description\",\n",
    "                            'launched_at': \"launch_date\",\n",
    "                            'deadline': \"end_date\"}, inplace=True)\n",
    "                            \n",
    "print(campaign_df)"
   ]
  },
  {
   "cell_type": "code",
   "execution_count": null,
   "metadata": {},
   "outputs": [],
   "source": [
    "# Convert the goal and pledged columns to a `float` data type.\n",
    "\n",
    "campaign_df[\"goal\"] = campaign_df[\"goal\"].astype(float)\n",
    "campaign_df[\"pledged\"]= campaign_df[\"pledged\"].astype(float)"
   ]
  },
  {
   "cell_type": "code",
   "execution_count": null,
   "metadata": {},
   "outputs": [],
   "source": [
    "# Check the datatypes\n",
    "campaign_df.info()"
   ]
  },
  {
   "cell_type": "code",
   "execution_count": null,
   "metadata": {},
   "outputs": [],
   "source": [
    "# Format the launch_date and end_date columns to datetime format\n",
    "# https://bootcampspot.instructure.com/courses/4981/external_tools/313 provided assistance with syntax\n",
    "\n",
    "#1. Convert objects to strings before applying to_datetime\n",
    "campaign_df['launch_date'] = campaign_df['launch_date'].astype(str)\n",
    "campaign_df['end_date'] = campaign_df['end_date'].astype(str)\n",
    "\n",
    "#2. Display the DataFrame data after conversion\n",
    "campaign_df.info()\n",
    "\n",
    "# 3. #First convert columns to datetime format using pd.to_datetime() before using .dt accessor to access \n",
    "#datetime property .dt.strftime('%Y-%m-%d')\n",
    "from datetime import datetime as dt\n",
    "campaign_df[\"launch_date\"] = pd.to_datetime(campaign_df[\"launch_date\"], unit = \"s\").dt.strftime('%Y-%m-%d')\n",
    "campaign_df[\"end_date\"] = pd.to_datetime(campaign_df[\"end_date\"], unit = \"s\").dt.strftime('%Y-%m-%d')"
   ]
  },
  {
   "cell_type": "code",
   "execution_count": null,
   "metadata": {
    "scrolled": false
   },
   "outputs": [],
   "source": [
    "# Merge the campaign_df with the category_df on the \"category\" column and \n",
    "# the subcategory_df on the \"subcategory\" column.\n",
    "#https://bootcampspot.instructure.com/courses/4981/external_tools/313 provided proper syntax\n",
    "\n",
    "# Merge first df with second df and then merge the result with third df\n",
    "campaign_merged_df = campaign_df.merge(category_df, left_on=\"category\",\\\n",
    "                        right_on=\"category\", how=\"outer\").merge(subcategory_df,\\\n",
    "                        left_on=\"sub-category\", right_on=\"subcategory\", how=\"outer\")\n",
    "                                                        \n",
    "campaign_merged_df.tail(5)"
   ]
  },
  {
   "cell_type": "code",
   "execution_count": null,
   "metadata": {},
   "outputs": [],
   "source": [
    "# Drop unwanted columns\n",
    "#https://bootcampspot.instructure.com/courses/4981/external_tools/313 provided proper syntax\n",
    "\n",
    "#Keep these columns:\n",
    "#1 \"cf_id\" column.\n",
    "#2 \"contact_id\" column.\n",
    "#3 “company_name” column.\n",
    "#4 \"description\"\n",
    "#5 \"goal\" column.\n",
    "#6 \"pledged\" column.\n",
    "#7 \"backers_count\" column.\n",
    "#8 \"country\" column.\n",
    "#9 \"currency\" column.\n",
    "#10 \"launch_date\".\n",
    "#11 \"end_date\"\n",
    "#12 “category_id”\n",
    "#13 \"subcategory_id\"\n",
    "\n",
    "campaign_merged_df.drop(columns=[\"category & sub-category\", \"category\", \"subcategory\",\"sub-category\",\"outcome\", \"staff_pick\", \"spotlight\"], inplace=True)\n",
    "\n",
    "# If inplace: set to True, operation performed on DataFrame itself and will return None \n",
    "# If inplace: set to False or not specified, will return new DataFrame with specified columns dropped\n",
    "\n",
    "campaign_merged_df.tail(5)"
   ]
  },
  {
   "cell_type": "code",
   "execution_count": null,
   "metadata": {},
   "outputs": [],
   "source": [
    "# Export the DataFrame as a CSV file. \n",
    "campaign_merged_df.to_csv(\"Resources/campaign.csv\", index=False)"
   ]
  },
  {
   "cell_type": "markdown",
   "metadata": {},
   "source": [
    "### Extract the contacts.xlsx Data."
   ]
  },
  {
   "cell_type": "code",
   "execution_count": null,
   "metadata": {},
   "outputs": [],
   "source": [
    "# Read the data into a Pandas DataFrame. Use the `header=2` parameter when reading in the data.\n",
    "contact_info_df = pd.read_excel('Resources/contacts.xlsx', header=3)\n",
    "contact_info_df.head()"
   ]
  },
  {
   "cell_type": "markdown",
   "metadata": {},
   "source": [
    "### Create the Contacts DataFrame \n",
    "---\n",
    "**Create a Contacts DataFrame that has the following columns:**\n",
    "- A column named \"contact_id\"  that contains the unique number of the contact person.\n",
    "- A column named \"first_name\" that contains the first name of the contact person.\n",
    "- A column named \"last_name\" that contains the first name of the contact person.\n",
    "- A column named \"email\" that contains the email address of the contact person\n",
    "\n",
    "Then export the DataFrame as a `contacts.csv` CSV file."
   ]
  },
  {
   "cell_type": "markdown",
   "metadata": {},
   "source": [
    "### Option 1: Use Pandas to create the contacts DataFrame."
   ]
  },
  {
   "cell_type": "code",
   "execution_count": null,
   "metadata": {},
   "outputs": [],
   "source": [
    "# Iterate through the contact_info_df and convert each row to a dictionary.\n",
    "import json\n",
    "\n",
    "dict_values = []\n",
    "\n",
    "for i, row in contact_info_df.iterrows():\n",
    "    data = row[0]\n",
    "    converted_data = json.loads(data)\n",
    "    row_values = [a for b, a in converted_data.items()]\n",
    "    dict_values.append(row_values)\n",
    "\n",
    "# Print out the list of values for each row.\n",
    "print(dict_values)"
   ]
  },
  {
   "cell_type": "code",
   "execution_count": null,
   "metadata": {},
   "outputs": [],
   "source": [
    "# Create a contact_info DataFrame and add each list of values, i.e., each row \n",
    "# to the 'contact_id', 'name', 'email' columns.\n",
    "\n",
    "columns=['contact_id', 'name', 'email']\n",
    "contact_df=pd.DataFrame(dict_values , columns=columns)\n",
    "contact_df.head()"
   ]
  },
  {
   "cell_type": "code",
   "execution_count": null,
   "metadata": {},
   "outputs": [],
   "source": [
    "# Check the datatypes.\n",
    "contact_df.info()\n"
   ]
  },
  {
   "cell_type": "code",
   "execution_count": null,
   "metadata": {},
   "outputs": [],
   "source": [
    "# Create a \"first\"name\" and \"last_name\" column with the first and last names from the \"name\" column. \n",
    "\n",
    "contact_df[['first_name','last_name']] = contact_df['name'].str.split(' ', n=1,expand=True)\n",
    "#contact_df\n",
    "\n",
    "#Drop the contact_name column\n",
    "contacts_df_cleaned = contact_df.drop(['name'], axis=1)\n",
    "contacts_df_cleaned.head()"
   ]
  },
  {
   "cell_type": "code",
   "execution_count": null,
   "metadata": {},
   "outputs": [],
   "source": [
    "# Reorder the columns\n",
    "contacts_df_cleaned = contacts_df_cleaned[['contact_id','first_name', 'last_name', 'email']]\n",
    "contacts_df_cleaned.head(10)"
   ]
  },
  {
   "cell_type": "code",
   "execution_count": null,
   "metadata": {},
   "outputs": [],
   "source": [
    "# Check the datatypes one more time before exporting as CSV file.\n",
    "contacts_df_cleaned.info()"
   ]
  },
  {
   "cell_type": "code",
   "execution_count": null,
   "metadata": {},
   "outputs": [],
   "source": [
    "# Export the DataFrame as a CSV file. \n",
    "contacts_df_cleaned.to_csv(\"Resources/contacts.csv\", encoding='utf8', index=False)"
   ]
  },
  {
   "cell_type": "markdown",
   "metadata": {},
   "source": [
    "### Option 2: Use regex to create the contacts DataFrame."
   ]
  },
  {
   "cell_type": "code",
   "execution_count": null,
   "metadata": {},
   "outputs": [],
   "source": [
    "contact_info_df_copy = contact_info_df.copy()\n",
    "contact_info_df_copy.head()"
   ]
  },
  {
   "cell_type": "code",
   "execution_count": null,
   "metadata": {},
   "outputs": [],
   "source": [
    "# Extract the four-digit contact ID number.\n"
   ]
  },
  {
   "cell_type": "code",
   "execution_count": null,
   "metadata": {},
   "outputs": [],
   "source": [
    "# Check the datatypes.\n"
   ]
  },
  {
   "cell_type": "code",
   "execution_count": null,
   "metadata": {},
   "outputs": [],
   "source": [
    "# Convert the \"contact_id\" column to an int64 data type.\n"
   ]
  },
  {
   "cell_type": "code",
   "execution_count": null,
   "metadata": {},
   "outputs": [],
   "source": [
    "# Extract the name of the contact and add it to a new column.\n"
   ]
  },
  {
   "cell_type": "code",
   "execution_count": null,
   "metadata": {},
   "outputs": [],
   "source": [
    "# Extract the email from the contacts and add the values to a new column.\n"
   ]
  },
  {
   "cell_type": "code",
   "execution_count": null,
   "metadata": {},
   "outputs": [],
   "source": [
    "# Create a copy of the contact_info_df with the 'contact_id', 'name', 'email' columns.\n"
   ]
  },
  {
   "cell_type": "code",
   "execution_count": null,
   "metadata": {},
   "outputs": [],
   "source": [
    "# Create a \"first\"name\" and \"last_name\" column with the first and last names from the \"name\" column. \n",
    "\n",
    "\n",
    "# Drop the contact_name column\n"
   ]
  },
  {
   "cell_type": "code",
   "execution_count": null,
   "metadata": {},
   "outputs": [],
   "source": [
    "# Reorder the columns\n"
   ]
  },
  {
   "cell_type": "code",
   "execution_count": null,
   "metadata": {},
   "outputs": [],
   "source": [
    "# Check the datatypes one more time before exporting as CSV file.\n"
   ]
  },
  {
   "cell_type": "code",
   "execution_count": null,
   "metadata": {},
   "outputs": [],
   "source": [
    "# Export the DataFrame as a CSV file. \n",
    "# contacts_df_clean.to_csv(\"Resources/contacts.csv\", encoding='utf8', index=False)"
   ]
  },
  {
   "cell_type": "code",
   "execution_count": null,
   "metadata": {},
   "outputs": [],
   "source": []
  }
 ],
 "metadata": {
  "kernelspec": {
   "display_name": "Python 3 (ipykernel)",
   "language": "python",
   "name": "python3"
  },
  "language_info": {
   "codemirror_mode": {
    "name": "ipython",
    "version": 3
   },
   "file_extension": ".py",
   "mimetype": "text/x-python",
   "name": "python",
   "nbconvert_exporter": "python",
   "pygments_lexer": "ipython3",
   "version": "3.11.5"
  }
 },
 "nbformat": 4,
 "nbformat_minor": 4
}
